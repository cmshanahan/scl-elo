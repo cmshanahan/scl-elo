{
 "cells": [
  {
   "cell_type": "code",
   "execution_count": 63,
   "id": "af4b6fbc-44cb-4af5-b8f0-a5ab594abc44",
   "metadata": {
    "tags": []
   },
   "outputs": [],
   "source": [
    "# TODO!!!\n",
    "## Currently does not pull playoffs -- Only have playoffs for first two seasons?\n",
    "## Some seasons are missing week information, I did not try to figure it out in these cases and just entered the matches in the order they appeared\n",
    "## Track history so you can graph players over time\n",
    "## Graphing should exclude 0 elo seasons\n",
    "## Record Peak Elo\n",
    "\n",
    "# Make case insensitive!!!\n",
    "# Add win rates, maybe even faction specific"
   ]
  },
  {
   "cell_type": "code",
   "execution_count": null,
   "id": "ff6e20d1-81e6-4cdd-a5f9-fe5d9b8bb7dc",
   "metadata": {},
   "outputs": [],
   "source": []
  },
  {
   "cell_type": "code",
   "execution_count": 1,
   "id": "170f0752-93e3-4beb-b0b6-5f5bd0809d62",
   "metadata": {
    "tags": []
   },
   "outputs": [],
   "source": [
    "from __future__ import print_function\n",
    "\n",
    "import os.path\n",
    "\n",
    "from google.auth.transport.requests import Request\n",
    "from google.oauth2.credentials import Credentials\n",
    "from google_auth_oauthlib.flow import InstalledAppFlow\n",
    "from googleapiclient.discovery import build\n",
    "from googleapiclient.errors import HttpError"
   ]
  },
  {
   "cell_type": "code",
   "execution_count": 153,
   "id": "38190535-d371-426d-89d4-45bc20f1f5c6",
   "metadata": {
    "tags": []
   },
   "outputs": [],
   "source": [
    "import pandas as pd\n",
    "from collections import defaultdict\n",
    "from time import sleep\n",
    "import matplotlib.pyplot as plt\n",
    "%matplotlib inline\n",
    "import seaborn as sns\n",
    "sns.set()"
   ]
  },
  {
   "cell_type": "code",
   "execution_count": 3,
   "id": "aaf95961-6fa1-40b2-a9ee-f859f112d7e9",
   "metadata": {
    "tags": []
   },
   "outputs": [],
   "source": [
    "# If modifying these scopes, delete the file token.json.\n",
    "SCOPES = ['https://www.googleapis.com/auth/spreadsheets.readonly']"
   ]
  },
  {
   "cell_type": "code",
   "execution_count": 4,
   "id": "30e0de4f-7b39-476b-b4bb-34a4d4d4bff8",
   "metadata": {
    "tags": []
   },
   "outputs": [],
   "source": [
    "early_data_sheet = \"1fd-dMfTfOwcOkNwIDbjMhQgTLZjS1COTPWi3f96Bols\""
   ]
  },
  {
   "cell_type": "code",
   "execution_count": 5,
   "id": "b1230eb4-da19-4615-afa3-7b87ee795112",
   "metadata": {
    "tags": []
   },
   "outputs": [],
   "source": [
    "class SheetsService():\n",
    "    def __init__(self):\n",
    "        self.service = self.build_service()\n",
    "        self.sheet = self.service.spreadsheets()\n",
    "\n",
    "\n",
    "    def build_service(self):\n",
    "        \"\"\"Shows basic usage of the Sheets API.\n",
    "        Prints values from a sample spreadsheet.\n",
    "        \"\"\"\n",
    "        creds = None\n",
    "        # The file token.json stores the user's access and refresh tokens, and is\n",
    "        # created automatically when the authorization flow completes for the first\n",
    "        # time.\n",
    "        if os.path.exists('token.json'):\n",
    "            creds = Credentials.from_authorized_user_file('token.json', SCOPES)\n",
    "        # If there are no (valid) credentials available, let the user log in.\n",
    "        if not creds or not creds.valid:\n",
    "            if creds and creds.expired and creds.refresh_token:\n",
    "                creds.refresh(Request())\n",
    "            else:\n",
    "                flow = InstalledAppFlow.from_client_secrets_file(\n",
    "                    'credentials.json', SCOPES)\n",
    "                creds = flow.run_local_server(port=0)\n",
    "            # Save the credentials for the next run\n",
    "            with open('token.json', 'w') as token:\n",
    "                token.write(creds.to_json())\n",
    "\n",
    "        try:\n",
    "            service = build('sheets', 'v4', credentials=creds)\n",
    "            return service\n",
    "\n",
    "        except HttpError as err:\n",
    "            print(err)\n",
    "        \n",
    "        \n",
    "    def get_sheet_as_df(self, sheet_id, cell_range, has_header = False, columns = None):\n",
    "        # Call the Sheets API\n",
    "        result = self.sheet.values().get(spreadsheetId=sheet_id,\n",
    "                                    range=cell_range).execute()\n",
    "        values = result.get('values', [])\n",
    "\n",
    "        if not values:\n",
    "            print('No data found.')\n",
    "            \n",
    "        if len(values) < 10:\n",
    "            return \"SKIP\"\n",
    "        \n",
    "        if has_header:\n",
    "            return pd.DataFrame(data = values[1:], columns = values[0])\n",
    "        else:\n",
    "            if columns != None:\n",
    "                return pd.DataFrame(data = values, columns = columns)\n",
    "            else:\n",
    "                return pd.DataFrame(data = values)\n"
   ]
  },
  {
   "cell_type": "code",
   "execution_count": 6,
   "id": "f0c868b2-f5d2-4db8-9617-c475169da863",
   "metadata": {
    "tags": []
   },
   "outputs": [],
   "source": [
    "service = SheetsService()"
   ]
  },
  {
   "cell_type": "code",
   "execution_count": 7,
   "id": "d08285f6-f6a4-4d0e-ae01-775ad7cbb180",
   "metadata": {
    "tags": []
   },
   "outputs": [],
   "source": [
    "sheet_ser = service.service.spreadsheets()"
   ]
  },
  {
   "cell_type": "code",
   "execution_count": 8,
   "id": "a7969f5f-01d8-4f1f-a1c1-24b7fe1e50eb",
   "metadata": {
    "tags": []
   },
   "outputs": [],
   "source": [
    "# Example match sheet title: S1W1-FRX-RANDO-2\n",
    "# A - SEASON\n",
    "# B- WEEK\n",
    "# C - GAME\n",
    "# D - GAME LENGTH\n",
    "# E - TEAM\n",
    "# F - FACTION\n",
    "# G - RESULT\n",
    "# H - PILOT\n",
    "# I - SCORE\n",
    "# J - KILLS\n",
    "# K - DEATHS\n",
    "# L - ASSISTS\n",
    "# M - AI KILLS\n",
    "# N - CAP SHIP DMG\n",
    "\n",
    "# Create known aliases map\n",
    "# Build player - elo board. Teams do not matter\n",
    "# Can build team elo board as well, MAYBE MAYBE MAYBE or insert teams as players (maybe have a player/team column) -- will require some name continuity research\n",
    "\n",
    "# Go through each season \n",
    "# Go through each week of that season\n",
    "# Go through each match of that week\n",
    "# For each match extract all pilots\n",
    "# If pilot does not exist, create an entry with default elo (1500)\n",
    "# Retrieve each pilot elo and divide into teams. \n",
    "# Calculate avg elo for each team.\n",
    "# Adjust elo for each pilot based on W or L\n",
    "# Adjust elo for each team based on W or L\n",
    "# At end of each season, save elo snapshot as separate dataframe"
   ]
  },
  {
   "cell_type": "code",
   "execution_count": 9,
   "id": "db976ef9-1c2b-4792-a437-ef2b21d42b65",
   "metadata": {
    "tags": []
   },
   "outputs": [],
   "source": [
    "class EloBuilder():\n",
    "    def __init__(self):\n",
    "        self.season = 1\n",
    "        self.num_seasons = 8\n",
    "        self.processed_games = 0\n",
    "        self.skipped_games = 0\n",
    "        self.elo_board = self.initialize_elo()\n",
    "        print(\"Elo initialized\")\n",
    "        self.sheets = SheetsService()\n",
    "        print(\"sheets initialized\")\n",
    "        # self.sheets_service = SheetsService()\n",
    "        # self.sheets = self.sheets_service.sheet\n",
    "        self.player_aliases = self.make_aliases()\n",
    "        print(\"aliases made\")\n",
    "        self.season_sheets = {\n",
    "            1: [\"1fd-dMfTfOwcOkNwIDbjMhQgTLZjS1COTPWi3f96Bols\"],\n",
    "            2: [\"1fd-dMfTfOwcOkNwIDbjMhQgTLZjS1COTPWi3f96Bols\"],\n",
    "            3: [\"1fd-dMfTfOwcOkNwIDbjMhQgTLZjS1COTPWi3f96Bols\"],\n",
    "            4: [\"1elPKPM53ghLvY3FBJcFjWPUizyaWwZZsfyleboNwsbE\", \"187ceE1WiFRF4PidFwO4tIbetEJKSX3qeWm0rm3h89DY\", \"1I_5UvfCPgmczgrpKJdvsKMj8GlpqOnSe7l4DQJAE4iE\"],\n",
    "            5: [\"19V9fh1BTFFRpyeHdrjJWP37get5T5RNeKCQTFyXVAFM\", \"10Jz9XpC2mmiVu3BADMHBgZf46qkIxhvCb7Ew83NAZjY\", \"1lmkI3mXDiE-aOUsWscSxJOOj3Q0t63sj7xD9t4qjaCw\"],\n",
    "            6: [\"1g9hhnHwMSJQggbyA6UzHPM7eh9mEm9WPW5XWBgD_8F4\", \"19E0J_uq_hm9qjG7DPamMFg5eNFW0qZl39Fe4ifCP8bg\", \"1ov8vuxItAeeya7qSp7GLiIZYFZ6ny7kDIY0ZbZNDwPM\"],\n",
    "            7: [\"1VSP1i2hUfhoXfvwGlKiEevkrmtKKASSMfeb-Z7R_FXE\"],\n",
    "            8: [\"1tQ6Fvg_jVRny3weLGcrV0vadI9geUe9-_zgSt8HJpLY\"]\n",
    "        }\n",
    "        self.season_weeks = {\n",
    "            1: 7,\n",
    "            2: 6,\n",
    "            3: 3,\n",
    "            4: 0,\n",
    "            5: 0,\n",
    "            6: 0,\n",
    "            7: 0,\n",
    "            8: 0\n",
    "        }\n",
    "        self.division_order = [\"\", \"Elite\", \"Challenger\", \"Open\"]\n",
    "        self.season_snapshots = defaultdict(pd.DataFrame)\n",
    "        \n",
    "    def initialize_elo(self):\n",
    "        cols = [\"player\", \"score\", \"games_played\", \"first_season\", \"latest_season\"]\n",
    "        df = pd.DataFrame(columns = cols)\n",
    "        df.set_index(\"player\", inplace = True)\n",
    "        return df\n",
    "    \n",
    "    def add_new_player(self, player):\n",
    "        player_row = [1500, 0, self.season, self.season]\n",
    "        self.elo_board.loc[player] = player_row\n",
    "    \n",
    "    def make_aliases(self):\n",
    "        sheet = \"1niMELgIKCzxrBOP0BLJdAKDcvtXRA3Zty3sNPbiVorI\"\n",
    "        result = self.sheets.sheet.values().get(spreadsheetId=sheet,\n",
    "                                    range=\"NameFixes!A1:Z\").execute()\n",
    "        values = result.get('values', [])\n",
    "        # data = self.sheets_service.get_sheet_as_df(sheet, \"NameFixes!A1:Z\")\n",
    "        aliases = defaultdict(list)\n",
    "        for name in values:\n",
    "            aliases[name[0]] = set([n for n in name[1:] if len(n) > 1])\n",
    "        return aliases\n",
    "    \n",
    "    def match_alias(self, name):\n",
    "        for k,v in self.player_aliases.items():\n",
    "            if name in v:\n",
    "                return k  \n",
    "        return name\n",
    "    \n",
    "    ##\n",
    "    ### Board construction\n",
    "    ##\n",
    "    \n",
    "    def build_elo_board(self):\n",
    "        for season in range(1,self.num_seasons+1):\n",
    "            self.process_season()\n",
    "            self.season_snapshots[self.season] = self.elo_board.copy()\n",
    "            print(f\"--- Processed season: {self.season} ---\")\n",
    "            self.season += 1\n",
    "        pass\n",
    "    \n",
    "    def process_season(self):\n",
    "        # retrieves all match sheet titles for a season\n",
    "        if self.season <= 3:\n",
    "            current_sheet = self.season_sheets[self.season][0]\n",
    "            meta = self.sheets.sheet.get(spreadsheetId=current_sheet).execute()\n",
    "            sh = meta.get('sheets', '')\n",
    "            game_titles = [i['properties']['title'] for i in sh if i['properties']['title'][:3] == f\"S{self.season}W\"]\n",
    "            # Currently omits playoffs, can add later\n",
    "            for week in range(1,self.season_weeks[self.season]+1):\n",
    "                week_games = [i for i in game_titles if i[:4] == f\"S{self.season}W{week}\"]\n",
    "                week_games.sort()\n",
    "                self.process_week_jareen(week_games, current_sheet)\n",
    "                print(f\"Processed S{self.season}W{week}\")\n",
    "                \n",
    "        elif self.season <= self.num_seasons:\n",
    "            current_sheets = self.season_sheets[self.season]\n",
    "            columns = [\"GAME_ID\",\"PILOT\",\"TEAM\",\"POINTS\",\"KILLS\",\"DEATHS\",\"ASSISTS\",\"AI KILLS\",\"CAP SHIIP DMG\",\"FACTION\",\"RESULT\"]\n",
    "            \n",
    "            for idx, division in enumerate(current_sheets):\n",
    "                div = idx\n",
    "                if self.season <= 6:\n",
    "                    div += 1\n",
    "                data = self.sheets.get_sheet_as_df(division, 'Data!A1:K', columns = columns)\n",
    "                data[\"true_name\"] = data.PILOT.apply(self.match_alias)\n",
    "                game_ids = data.GAME_ID.unique()\n",
    "                \n",
    "                for game in game_ids:\n",
    "                    self.processed_games += 1\n",
    "                    try:\n",
    "                        self.process_game(data[data.GAME_ID == game])\n",
    "                    except Exception as e:\n",
    "                        self.skipped_games += 1\n",
    "                        print(f\"Skipped {game} -- S{self.season}{self.division_order[idx]}\")\n",
    "                        print(e)\n",
    "                print(f\"Processed S{self.season}{self.division_order[idx]}\")\n",
    "\n",
    "        else:\n",
    "            print(\"Ran out of seasons\")\n",
    "            #figure out scheme for later season, has Elite/Challenger/Open for seasons 4-6\n",
    "            pass\n",
    "    \n",
    "    def process_week_jareen(self, games, sheet):\n",
    "        # processes all match sheets for a week of a season\n",
    "        for game in games:\n",
    "            self.processed_games += 1\n",
    "            cells = f\"{game}!A1:N\"\n",
    "            try:\n",
    "                data = self.sheets.get_sheet_as_df(sheet, cells, has_header = True)\n",
    "                if type(data) != str:\n",
    "                    data[\"true_name\"] = data.PILOT.apply(self.match_alias)\n",
    "                    self.process_game(data)\n",
    "                else: \n",
    "                    print(f\"Skipped {game} -- < 10 players\")\n",
    "                    self.skipped_games += 1\n",
    "            except Exception as e:\n",
    "                print(f\"Skipped {game} -- Other failure\")\n",
    "                print(e)\n",
    "                break\n",
    "                self.skipped_games += 1\n",
    "        sleep(60)\n",
    "    \n",
    "    def process_game(self, game):\n",
    "        # processes match result data from a game\n",
    "        team_w = game[(game.RESULT == \"W\") | (game.RESULT == \"Win\")]\n",
    "        team_l = game[(game.RESULT == \"L\") | (game.RESULT == \"Loss\")]\n",
    "        if team_w.shape[0] != 0:\n",
    "            # game_names = {i: match_aliases(i) for i in game.PILOT}\n",
    "            for name in game.true_name:\n",
    "                if name not in self.elo_board.index:\n",
    "                    self.add_new_player(name)\n",
    "            winner_team_elo = self.calculate_team_elo(team_w)\n",
    "            loser_team_elo = self.calculate_team_elo(team_l)\n",
    "            for name in team_w.true_name:\n",
    "                self.update_player_elo(name, \"w\", team_w, loser_team_elo)\n",
    "            for name in team_l.true_name:\n",
    "                self.update_player_elo(name, \"l\", team_l, winner_team_elo)\n",
    "                \n",
    "    ##\n",
    "    ### Elo update calculations\n",
    "    ##\n",
    "        \n",
    "    def calculate_team_elo(self, team):\n",
    "        total = 0\n",
    "        for player in team.true_name:\n",
    "            total += self.elo_board.loc[player, \"score\"]\n",
    "        return round(total/len(team), 0)\n",
    "    \n",
    "    def update_player_elo(self, player, result, team, opp_elo):\n",
    "        # p_elo = self.elo_board.loc[player].score\n",
    "        p_elo = self.weighted_player_elo(player, team)\n",
    "        if result == 'w':\n",
    "            win_chance = 1.0 / (1 + 10**((opp_elo - p_elo)/400))\n",
    "            delta = round(32 * (1 - win_chance), 0)\n",
    "            self.elo_board.loc[player, \"score\"] += delta\n",
    "        else:\n",
    "            win_chance = 1.0 / (1 + 10**((p_elo - opp_elo)/400))\n",
    "            delta = round(32 * (1 - win_chance), 0)\n",
    "            self.elo_board.loc[player, \"score\"] -= delta\n",
    "        \n",
    "        self.elo_board.loc[player, \"games_played\"] += 1\n",
    "        self.elo_board.loc[player, \"latest_season\"] = self.season\n",
    "        \n",
    "    def weighted_player_elo(self, player, team):\n",
    "        p_elo = self.elo_board.loc[player].score\n",
    "        team_elo = self.calculate_team_elo(team[team.PILOT != player])\n",
    "        wt = (p_elo + team_elo) / 2\n",
    "        return round(wt, 0)\n",
    "    \n",
    "    ##\n",
    "    ### Graphing stuff below here\n",
    "    ##\n",
    "\n",
    "        "
   ]
  },
  {
   "cell_type": "code",
   "execution_count": 10,
   "id": "d7116f15-1145-4044-944f-c2c928b9538c",
   "metadata": {
    "tags": []
   },
   "outputs": [
    {
     "name": "stdout",
     "output_type": "stream",
     "text": [
      "Elo initialized\n",
      "sheets initialized\n",
      "aliases made\n"
     ]
    }
   ],
   "source": [
    "elo = EloBuilder()"
   ]
  },
  {
   "cell_type": "code",
   "execution_count": 11,
   "id": "17b04d5b-8dc2-4cab-b7ec-b02c0015da57",
   "metadata": {
    "tags": []
   },
   "outputs": [
    {
     "name": "stdout",
     "output_type": "stream",
     "text": [
      "Skipped S1W1-NPC-1 -- < 10 players\n",
      "Skipped S1W1-NPC-2 -- < 10 players\n",
      "Processed S1W1\n",
      "Skipped S1W2-NPC-1 -- < 10 players\n",
      "Skipped S1W2-NPC-2 -- < 10 players\n",
      "Processed S1W2\n",
      "Processed S1W3\n",
      "Processed S1W4\n",
      "Processed S1W5\n",
      "Processed S1W6\n",
      "Processed S1W7\n",
      "--- Processed season: 1 ---\n",
      "Skipped S2W1-SKL-BAY-1 -- Other failure\n",
      "14 columns passed, passed data had 7 columns\n",
      "Processed S2W1\n",
      "Skipped S2W2-GHST-SKL-1 -- Other failure\n",
      "14 columns passed, passed data had 7 columns\n",
      "Processed S2W2\n",
      "Processed S2W3\n",
      "Skipped S2W4-F-SPICY-1 -- Other failure\n",
      "14 columns passed, passed data had 7 columns\n",
      "Processed S2W4\n",
      "Processed S2W5\n",
      "Processed S2W6\n",
      "--- Processed season: 2 ---\n",
      "Skipped S3W1-TSQ-1 -- < 10 players\n",
      "Skipped S3W1-TSQ-2 -- < 10 players\n",
      "Processed S3W1\n",
      "Processed S3W2\n",
      "Skipped S3W3-NOVA-IN-1 -- Other failure\n",
      "14 columns passed, passed data had 3 columns\n",
      "Processed S3W3\n",
      "--- Processed season: 3 ---\n",
      "Processed S4\n",
      "Processed S4Elite\n",
      "Processed S4Challenger\n",
      "--- Processed season: 4 ---\n",
      "Processed S5\n",
      "Processed S5Elite\n",
      "Processed S5Challenger\n",
      "--- Processed season: 5 ---\n",
      "Processed S6\n",
      "Processed S6Elite\n",
      "Processed S6Challenger\n",
      "--- Processed season: 6 ---\n",
      "Processed S7\n",
      "--- Processed season: 7 ---\n",
      "Processed S8\n",
      "--- Processed season: 8 ---\n"
     ]
    }
   ],
   "source": [
    "elo.build_elo_board()"
   ]
  },
  {
   "cell_type": "code",
   "execution_count": 12,
   "id": "bab68428-ce16-44ff-b99e-e6dac8196276",
   "metadata": {},
   "outputs": [
    {
     "data": {
      "text/plain": [
       "(528, 4)"
      ]
     },
     "execution_count": 12,
     "metadata": {},
     "output_type": "execute_result"
    }
   ],
   "source": [
    "elo.elo_board.shape"
   ]
  },
  {
   "cell_type": "code",
   "execution_count": 158,
   "id": "6cd3884c-9bce-42a0-9f36-f169010ba334",
   "metadata": {
    "tags": []
   },
   "outputs": [
    {
     "data": {
      "text/plain": [
       "1500.2386363636363"
      ]
     },
     "execution_count": 158,
     "metadata": {},
     "output_type": "execute_result"
    }
   ],
   "source": [
    "elo.elo_board.score.mean()"
   ]
  },
  {
   "cell_type": "code",
   "execution_count": 20,
   "id": "bd957b3a-c43d-4a17-8e99-835e6493c41f",
   "metadata": {},
   "outputs": [
    {
     "data": {
      "text/html": [
       "<div>\n",
       "<style scoped>\n",
       "    .dataframe tbody tr th:only-of-type {\n",
       "        vertical-align: middle;\n",
       "    }\n",
       "\n",
       "    .dataframe tbody tr th {\n",
       "        vertical-align: top;\n",
       "    }\n",
       "\n",
       "    .dataframe thead th {\n",
       "        text-align: right;\n",
       "    }\n",
       "</style>\n",
       "<table border=\"1\" class=\"dataframe\">\n",
       "  <thead>\n",
       "    <tr style=\"text-align: right;\">\n",
       "      <th></th>\n",
       "      <th>score</th>\n",
       "      <th>games_played</th>\n",
       "      <th>first_season</th>\n",
       "      <th>latest_season</th>\n",
       "    </tr>\n",
       "    <tr>\n",
       "      <th>player</th>\n",
       "      <th></th>\n",
       "      <th></th>\n",
       "      <th></th>\n",
       "      <th></th>\n",
       "    </tr>\n",
       "  </thead>\n",
       "  <tbody>\n",
       "    <tr>\n",
       "      <th>Jishiiqua</th>\n",
       "      <td>1802</td>\n",
       "      <td>36</td>\n",
       "      <td>4</td>\n",
       "      <td>6</td>\n",
       "    </tr>\n",
       "    <tr>\n",
       "      <th>Hod</th>\n",
       "      <td>1796</td>\n",
       "      <td>82</td>\n",
       "      <td>1</td>\n",
       "      <td>8</td>\n",
       "    </tr>\n",
       "    <tr>\n",
       "      <th>Esoda</th>\n",
       "      <td>1786</td>\n",
       "      <td>87</td>\n",
       "      <td>2</td>\n",
       "      <td>8</td>\n",
       "    </tr>\n",
       "    <tr>\n",
       "      <th>Matticus_Rex</th>\n",
       "      <td>1761</td>\n",
       "      <td>71</td>\n",
       "      <td>2</td>\n",
       "      <td>8</td>\n",
       "    </tr>\n",
       "    <tr>\n",
       "      <th>Dead_Weight</th>\n",
       "      <td>1755</td>\n",
       "      <td>61</td>\n",
       "      <td>3</td>\n",
       "      <td>8</td>\n",
       "    </tr>\n",
       "    <tr>\n",
       "      <th>...</th>\n",
       "      <td>...</td>\n",
       "      <td>...</td>\n",
       "      <td>...</td>\n",
       "      <td>...</td>\n",
       "    </tr>\n",
       "    <tr>\n",
       "      <th>six8ten</th>\n",
       "      <td>1318</td>\n",
       "      <td>32</td>\n",
       "      <td>6</td>\n",
       "      <td>7</td>\n",
       "    </tr>\n",
       "    <tr>\n",
       "      <th>Evil Pepe</th>\n",
       "      <td>1301</td>\n",
       "      <td>31</td>\n",
       "      <td>5</td>\n",
       "      <td>7</td>\n",
       "    </tr>\n",
       "    <tr>\n",
       "      <th>Billy_KeyStrokes</th>\n",
       "      <td>1287</td>\n",
       "      <td>16</td>\n",
       "      <td>3</td>\n",
       "      <td>8</td>\n",
       "    </tr>\n",
       "    <tr>\n",
       "      <th>HudsonA08</th>\n",
       "      <td>1285</td>\n",
       "      <td>30</td>\n",
       "      <td>3</td>\n",
       "      <td>7</td>\n",
       "    </tr>\n",
       "    <tr>\n",
       "      <th>BawangByte</th>\n",
       "      <td>1263</td>\n",
       "      <td>39</td>\n",
       "      <td>3</td>\n",
       "      <td>7</td>\n",
       "    </tr>\n",
       "  </tbody>\n",
       "</table>\n",
       "<p>528 rows × 4 columns</p>\n",
       "</div>"
      ],
      "text/plain": [
       "                  score  games_played  first_season  latest_season\n",
       "player                                                            \n",
       "Jishiiqua          1802            36             4              6\n",
       "Hod                1796            82             1              8\n",
       "Esoda              1786            87             2              8\n",
       "Matticus_Rex       1761            71             2              8\n",
       "Dead_Weight        1755            61             3              8\n",
       "...                 ...           ...           ...            ...\n",
       "six8ten            1318            32             6              7\n",
       "Evil Pepe          1301            31             5              7\n",
       "Billy_KeyStrokes   1287            16             3              8\n",
       "HudsonA08          1285            30             3              7\n",
       "BawangByte         1263            39             3              7\n",
       "\n",
       "[528 rows x 4 columns]"
      ]
     },
     "execution_count": 20,
     "metadata": {},
     "output_type": "execute_result"
    }
   ],
   "source": [
    "elo.elo_board.sort_values('score', ascending = False)"
   ]
  },
  {
   "cell_type": "code",
   "execution_count": 94,
   "id": "d10149ef-6811-4d25-b471-284c5d833b40",
   "metadata": {
    "tags": []
   },
   "outputs": [],
   "source": [
    "def get_player_history(elo, player):\n",
    "    matched_player = elo.match_alias(player)\n",
    "    return [elo.season_snapshots[s+1].loc[matched_player].score if matched_player in elo.season_snapshots[s+1].index else 0 for s in range(elo.num_seasons)]"
   ]
  },
  {
   "cell_type": "code",
   "execution_count": 126,
   "id": "5d0c9471-9320-46d0-ad9d-24240f3a9121",
   "metadata": {
    "tags": []
   },
   "outputs": [],
   "source": [
    "import matplotlib.pyplot as plt"
   ]
  },
  {
   "cell_type": "code",
   "execution_count": 155,
   "id": "45a04b8a-5a13-47b1-b10a-6743f57faf99",
   "metadata": {
    "tags": []
   },
   "outputs": [
    {
     "data": {
      "text/plain": [
       "[<matplotlib.lines.Line2D at 0x1fca95565c0>]"
      ]
     },
     "execution_count": 155,
     "metadata": {},
     "output_type": "execute_result"
    },
    {
     "data": {
      "image/png": "[encoded data removed]",
      "text/plain": [
       "<Figure size 640x480 with 1 Axes>"
      ]
     },
     "metadata": {},
     "output_type": "display_data"
    }
   ],
   "source": [
    "plt.plot(get_player_history(elo, \"Dead_Weight\"))"
   ]
  },
  {
   "cell_type": "code",
   "execution_count": 154,
   "id": "5f035072-8596-423b-804b-c4ad2ea28c70",
   "metadata": {
    "tags": []
   },
   "outputs": [
    {
     "data": {
      "text/plain": [
       "[<matplotlib.lines.Line2D at 0x1fcad8791e0>]"
      ]
     },
     "execution_count": 154,
     "metadata": {},
     "output_type": "execute_result"
    },
    {
     "data": {
      "image/png": "[encoded data removed]",
      "text/plain": [
       "<Figure size 640x480 with 1 Axes>"
      ]
     },
     "metadata": {},
     "output_type": "display_data"
    }
   ],
   "source": [
    "plt.plot(get_player_history(elo, \"Hod\"))"
   ]
  },
  {
   "cell_type": "code",
   "execution_count": 161,
   "id": "5357252c-35d4-432d-8344-aaf5e6915e7e",
   "metadata": {
    "tags": []
   },
   "outputs": [
    {
     "data": {
      "text/plain": [
       "[<matplotlib.lines.Line2D at 0x1fca7fb7be0>]"
      ]
     },
     "execution_count": 161,
     "metadata": {},
     "output_type": "execute_result"
    },
    {
     "data": {
      "image/png": "[encoded data removed]",
      "text/plain": [
       "<Figure size 640x480 with 1 Axes>"
      ]
     },
     "metadata": {},
     "output_type": "display_data"
    }
   ],
   "source": [
    "plt.plot(get_player_history(elo, \"Pseudo_nine\"))"
   ]
  },
  {
   "cell_type": "code",
   "execution_count": 167,
   "id": "ce09f1a2-d4cd-4af4-b623-69cacf7d069a",
   "metadata": {
    "tags": []
   },
   "outputs": [
    {
     "data": {
      "text/plain": [
       "[<matplotlib.lines.Line2D at 0x1fcaddb5fc0>]"
      ]
     },
     "execution_count": 167,
     "metadata": {},
     "output_type": "execute_result"
    },
    {
     "data": {
      "image/png": "[encoded data removed]",
      "text/plain": [
       "<Figure size 640x480 with 1 Axes>"
      ]
     },
     "metadata": {},
     "output_type": "display_data"
    }
   ],
   "source": [
    "plt.plot(get_player_history(elo, \"Eledran\"))"
   ]
  },
  {
   "cell_type": "code",
   "execution_count": null,
   "id": "b60ab193-c5de-403e-b430-73e878d4aa9e",
   "metadata": {},
   "outputs": [],
   "source": []
  },
  {
   "cell_type": "code",
   "execution_count": 95,
   "id": "cdb7e8ba-f3fa-4aec-a119-8d51f4a6392d",
   "metadata": {
    "tags": []
   },
   "outputs": [
    {
     "data": {
      "text/plain": [
       "[0, 1476, 1479, 1574, 1574, 1574, 1680, 1724]"
      ]
     },
     "execution_count": 95,
     "metadata": {},
     "output_type": "execute_result"
    }
   ],
   "source": [
    "get_player_history(elo, \"Scribbler\")"
   ]
  },
  {
   "cell_type": "code",
   "execution_count": 47,
   "id": "07f527d5-f7a7-43b6-a8be-0d7f3a819d0b",
   "metadata": {
    "tags": []
   },
   "outputs": [
    {
     "data": {
      "text/plain": [
       "[0, 1543, 1511, 1613, 1610, 1592, 1657, 1661]"
      ]
     },
     "execution_count": 47,
     "metadata": {},
     "output_type": "execute_result"
    }
   ],
   "source": [
    "get_player_history(elo, \"Eckpired\")"
   ]
  },
  {
   "cell_type": "code",
   "execution_count": 49,
   "id": "007cf2a6-0421-4f4a-9a91-cc868317e74a",
   "metadata": {
    "tags": []
   },
   "outputs": [
    {
     "data": {
      "text/plain": [
       "[1575, 1664, 1656, 1718, 1731, 1785, 1809, 1796]"
      ]
     },
     "execution_count": 49,
     "metadata": {},
     "output_type": "execute_result"
    }
   ],
   "source": [
    "get_player_history(elo, \"Hod\")"
   ]
  },
  {
   "cell_type": "code",
   "execution_count": 59,
   "id": "a1aea3f5-733d-4c00-99e6-ab12953e6871",
   "metadata": {},
   "outputs": [
    {
     "data": {
      "text/plain": [
       "[1534, 1584, 1584, 1584, 1584, 1584, 1584, 1584]"
      ]
     },
     "execution_count": 59,
     "metadata": {},
     "output_type": "execute_result"
    }
   ],
   "source": [
    "get_player_history(elo, \"dstrik\")"
   ]
  },
  {
   "cell_type": "code",
   "execution_count": 61,
   "id": "c5257eef-efd9-43cf-b2bc-82171b139dd1",
   "metadata": {
    "tags": []
   },
   "outputs": [
    {
     "data": {
      "text/plain": [
       "[1516, 1516, 1516, 1516, 1516, 1516, 1516, 1516]"
      ]
     },
     "execution_count": 61,
     "metadata": {},
     "output_type": "execute_result"
    }
   ],
   "source": [
    "get_player_history(elo, \"DStrik\")"
   ]
  },
  {
   "cell_type": "code",
   "execution_count": 162,
   "id": "c65daaad-1f6c-41a6-a276-1e45496c21ca",
   "metadata": {
    "tags": []
   },
   "outputs": [
    {
     "data": {
      "text/plain": [
       "[0, 0, 0, 1534, 1539, 1548, 1473, 1456]"
      ]
     },
     "execution_count": 162,
     "metadata": {},
     "output_type": "execute_result"
    }
   ],
   "source": [
    "get_player_history(elo, \"SuperKev\")"
   ]
  },
  {
   "cell_type": "code",
   "execution_count": null,
   "id": "4f533ac1-a0b1-4f15-9547-d33085128b54",
   "metadata": {},
   "outputs": [],
   "source": []
  },
  {
   "cell_type": "code",
   "execution_count": 31,
   "id": "0ca2f66f-c485-48c3-8b31-29b5117606eb",
   "metadata": {},
   "outputs": [
    {
     "data": {
      "text/html": [
       "<div>\n",
       "<style scoped>\n",
       "    .dataframe tbody tr th:only-of-type {\n",
       "        vertical-align: middle;\n",
       "    }\n",
       "\n",
       "    .dataframe tbody tr th {\n",
       "        vertical-align: top;\n",
       "    }\n",
       "\n",
       "    .dataframe thead th {\n",
       "        text-align: right;\n",
       "    }\n",
       "</style>\n",
       "<table border=\"1\" class=\"dataframe\">\n",
       "  <thead>\n",
       "    <tr style=\"text-align: right;\">\n",
       "      <th></th>\n",
       "      <th>player</th>\n",
       "      <th>score</th>\n",
       "      <th>games_played</th>\n",
       "      <th>first_season</th>\n",
       "      <th>latest_season</th>\n",
       "    </tr>\n",
       "  </thead>\n",
       "  <tbody>\n",
       "    <tr>\n",
       "      <th>0</th>\n",
       "      <td>esoda</td>\n",
       "      <td>1500</td>\n",
       "      <td>0</td>\n",
       "      <td>1</td>\n",
       "      <td>1</td>\n",
       "    </tr>\n",
       "    <tr>\n",
       "      <th>1</th>\n",
       "      <td>eckpired</td>\n",
       "      <td>1500</td>\n",
       "      <td>0</td>\n",
       "      <td>1</td>\n",
       "      <td>1</td>\n",
       "    </tr>\n",
       "  </tbody>\n",
       "</table>\n",
       "</div>"
      ],
      "text/plain": [
       "     player  score  games_played  first_season  latest_season\n",
       "0     esoda   1500             0             1              1\n",
       "1  eckpired   1500             0             1              1"
      ]
     },
     "execution_count": 31,
     "metadata": {},
     "output_type": "execute_result"
    }
   ],
   "source": [
    "df = pd.DataFrame(data = [[\"esoda\", 1500, 0, 1, 1], [\"eckpired\", 1500, 0, 1, 1]], columns = [\"player\", \"score\", \"games_played\", \"first_season\", \"latest_season\"])\n",
    "df"
   ]
  },
  {
   "cell_type": "code",
   "execution_count": 33,
   "id": "407b27e8-ab3d-482f-862e-870caffac4c4",
   "metadata": {
    "tags": []
   },
   "outputs": [
    {
     "data": {
      "text/plain": [
       "array(['esoda', 'eckpired'], dtype=object)"
      ]
     },
     "execution_count": 33,
     "metadata": {},
     "output_type": "execute_result"
    }
   ],
   "source": [
    "df.player.unique()"
   ]
  },
  {
   "cell_type": "code",
   "execution_count": 38,
   "id": "cd613822-2665-4a36-b693-b3b05960f21d",
   "metadata": {
    "tags": []
   },
   "outputs": [
    {
     "data": {
      "text/html": [
       "<div>\n",
       "<style scoped>\n",
       "    .dataframe tbody tr th:only-of-type {\n",
       "        vertical-align: middle;\n",
       "    }\n",
       "\n",
       "    .dataframe tbody tr th {\n",
       "        vertical-align: top;\n",
       "    }\n",
       "\n",
       "    .dataframe thead th {\n",
       "        text-align: right;\n",
       "    }\n",
       "</style>\n",
       "<table border=\"1\" class=\"dataframe\">\n",
       "  <thead>\n",
       "    <tr style=\"text-align: right;\">\n",
       "      <th></th>\n",
       "      <th>player</th>\n",
       "      <th>score</th>\n",
       "      <th>games_played</th>\n",
       "      <th>first_season</th>\n",
       "      <th>latest_season</th>\n",
       "    </tr>\n",
       "  </thead>\n",
       "  <tbody>\n",
       "    <tr>\n",
       "      <th>1</th>\n",
       "      <td>eckpired</td>\n",
       "      <td>1500</td>\n",
       "      <td>0</td>\n",
       "      <td>1</td>\n",
       "      <td>1</td>\n",
       "    </tr>\n",
       "  </tbody>\n",
       "</table>\n",
       "</div>"
      ],
      "text/plain": [
       "     player  score  games_played  first_season  latest_season\n",
       "1  eckpired   1500             0             1              1"
      ]
     },
     "execution_count": 38,
     "metadata": {},
     "output_type": "execute_result"
    }
   ],
   "source": [
    "df[(df.player == \"lions\") | (df.player == \"eckpired\")]"
   ]
  },
  {
   "cell_type": "code",
   "execution_count": 215,
   "id": "599ed50c-7071-4750-8582-630f30100dc0",
   "metadata": {
    "tags": []
   },
   "outputs": [
    {
     "data": {
      "text/html": [
       "<div>\n",
       "<style scoped>\n",
       "    .dataframe tbody tr th:only-of-type {\n",
       "        vertical-align: middle;\n",
       "    }\n",
       "\n",
       "    .dataframe tbody tr th {\n",
       "        vertical-align: top;\n",
       "    }\n",
       "\n",
       "    .dataframe thead th {\n",
       "        text-align: right;\n",
       "    }\n",
       "</style>\n",
       "<table border=\"1\" class=\"dataframe\">\n",
       "  <thead>\n",
       "    <tr style=\"text-align: right;\">\n",
       "      <th></th>\n",
       "      <th>score</th>\n",
       "      <th>games_played</th>\n",
       "      <th>first_season</th>\n",
       "      <th>latest_season</th>\n",
       "    </tr>\n",
       "    <tr>\n",
       "      <th>player</th>\n",
       "      <th></th>\n",
       "      <th></th>\n",
       "      <th></th>\n",
       "      <th></th>\n",
       "    </tr>\n",
       "  </thead>\n",
       "  <tbody>\n",
       "    <tr>\n",
       "      <th>esoda</th>\n",
       "      <td>1500</td>\n",
       "      <td>0</td>\n",
       "      <td>1</td>\n",
       "      <td>1</td>\n",
       "    </tr>\n",
       "    <tr>\n",
       "      <th>eckpired</th>\n",
       "      <td>1500</td>\n",
       "      <td>0</td>\n",
       "      <td>1</td>\n",
       "      <td>1</td>\n",
       "    </tr>\n",
       "  </tbody>\n",
       "</table>\n",
       "</div>"
      ],
      "text/plain": [
       "          score  games_played  first_season  latest_season\n",
       "player                                                    \n",
       "esoda      1500             0             1              1\n",
       "eckpired   1500             0             1              1"
      ]
     },
     "execution_count": 215,
     "metadata": {},
     "output_type": "execute_result"
    }
   ],
   "source": [
    "df.set_index(\"player\", inplace=True)\n",
    "df"
   ]
  },
  {
   "cell_type": "code",
   "execution_count": 218,
   "id": "b89b054f-9471-4548-b586-969dc0adbca4",
   "metadata": {},
   "outputs": [
    {
     "data": {
      "text/html": [
       "<div>\n",
       "<style scoped>\n",
       "    .dataframe tbody tr th:only-of-type {\n",
       "        vertical-align: middle;\n",
       "    }\n",
       "\n",
       "    .dataframe tbody tr th {\n",
       "        vertical-align: top;\n",
       "    }\n",
       "\n",
       "    .dataframe thead th {\n",
       "        text-align: right;\n",
       "    }\n",
       "</style>\n",
       "<table border=\"1\" class=\"dataframe\">\n",
       "  <thead>\n",
       "    <tr style=\"text-align: right;\">\n",
       "      <th></th>\n",
       "      <th>score</th>\n",
       "      <th>games_played</th>\n",
       "      <th>first_season</th>\n",
       "      <th>latest_season</th>\n",
       "    </tr>\n",
       "    <tr>\n",
       "      <th>player</th>\n",
       "      <th></th>\n",
       "      <th></th>\n",
       "      <th></th>\n",
       "      <th></th>\n",
       "    </tr>\n",
       "  </thead>\n",
       "  <tbody>\n",
       "    <tr>\n",
       "      <th>esoda</th>\n",
       "      <td>1500</td>\n",
       "      <td>0</td>\n",
       "      <td>1</td>\n",
       "      <td>1</td>\n",
       "    </tr>\n",
       "    <tr>\n",
       "      <th>eckpired</th>\n",
       "      <td>1500</td>\n",
       "      <td>0</td>\n",
       "      <td>1</td>\n",
       "      <td>1</td>\n",
       "    </tr>\n",
       "    <tr>\n",
       "      <th>not tom</th>\n",
       "      <td>1500</td>\n",
       "      <td>0</td>\n",
       "      <td>1</td>\n",
       "      <td>1</td>\n",
       "    </tr>\n",
       "  </tbody>\n",
       "</table>\n",
       "</div>"
      ],
      "text/plain": [
       "          score  games_played  first_season  latest_season\n",
       "player                                                    \n",
       "esoda      1500             0             1              1\n",
       "eckpired   1500             0             1              1\n",
       "not tom    1500             0             1              1"
      ]
     },
     "execution_count": 218,
     "metadata": {},
     "output_type": "execute_result"
    }
   ],
   "source": [
    "# df = pd.concat([df, pd.DataFrame({\"player\": \"not tom\", \"score\": 1500, \"games_played\": 0, \"first_season\": 1, \"latest_season\": 1})], axis = 0, ignore_index = True)\n",
    "df.loc[\"not tom\"] = [1500, 0, 1, 1]\n",
    "df"
   ]
  },
  {
   "cell_type": "code",
   "execution_count": 237,
   "id": "c0671392-e0c7-4f4d-a380-47d64bbc0b1d",
   "metadata": {
    "tags": []
   },
   "outputs": [
    {
     "data": {
      "text/plain": [
       "True"
      ]
     },
     "execution_count": 237,
     "metadata": {},
     "output_type": "execute_result"
    }
   ],
   "source": [
    "\"eckpired\" in df.index"
   ]
  },
  {
   "cell_type": "code",
   "execution_count": 239,
   "id": "f9422613-e9dd-416f-94fd-5ec58d060f1c",
   "metadata": {
    "tags": []
   },
   "outputs": [
    {
     "data": {
      "text/plain": [
       "1"
      ]
     },
     "execution_count": 239,
     "metadata": {},
     "output_type": "execute_result"
    }
   ],
   "source": [
    "df.loc[\"eckpired\", \"first_season\"]"
   ]
  },
  {
   "cell_type": "code",
   "execution_count": 234,
   "id": "f61a88ff-3c7b-4f12-a41f-9e1065b3d131",
   "metadata": {
    "tags": []
   },
   "outputs": [
    {
     "name": "stdout",
     "output_type": "stream",
     "text": [
      "1\n",
      "2\n"
     ]
    }
   ],
   "source": [
    "for i in {1: \"a\", 2: \"b\"}.keys():\n",
    "    print(i)"
   ]
  },
  {
   "cell_type": "code",
   "execution_count": 232,
   "id": "f0e76926-58d2-4755-bc05-04d343f1003f",
   "metadata": {
    "tags": []
   },
   "outputs": [
    {
     "data": {
      "text/plain": [
       "False"
      ]
     },
     "execution_count": 232,
     "metadata": {},
     "output_type": "execute_result"
    }
   ],
   "source": [
    "\"lions\" in df.index"
   ]
  },
  {
   "cell_type": "code",
   "execution_count": 202,
   "id": "85612382-ae82-4043-aaff-452c8390c62f",
   "metadata": {
    "tags": []
   },
   "outputs": [],
   "source": [
    "df.loc[df.player == 'esoda', \"games_played\"] += 1"
   ]
  },
  {
   "cell_type": "code",
   "execution_count": 203,
   "id": "e502f5a0-c064-407b-a029-1bbc843b03b4",
   "metadata": {
    "tags": []
   },
   "outputs": [
    {
     "data": {
      "text/html": [
       "<div>\n",
       "<style scoped>\n",
       "    .dataframe tbody tr th:only-of-type {\n",
       "        vertical-align: middle;\n",
       "    }\n",
       "\n",
       "    .dataframe tbody tr th {\n",
       "        vertical-align: top;\n",
       "    }\n",
       "\n",
       "    .dataframe thead th {\n",
       "        text-align: right;\n",
       "    }\n",
       "</style>\n",
       "<table border=\"1\" class=\"dataframe\">\n",
       "  <thead>\n",
       "    <tr style=\"text-align: right;\">\n",
       "      <th></th>\n",
       "      <th>player</th>\n",
       "      <th>score</th>\n",
       "      <th>games_played</th>\n",
       "      <th>first_season</th>\n",
       "      <th>latest_season</th>\n",
       "    </tr>\n",
       "  </thead>\n",
       "  <tbody>\n",
       "    <tr>\n",
       "      <th>0</th>\n",
       "      <td>esoda</td>\n",
       "      <td>1500</td>\n",
       "      <td>1</td>\n",
       "      <td>1</td>\n",
       "      <td>1</td>\n",
       "    </tr>\n",
       "    <tr>\n",
       "      <th>1</th>\n",
       "      <td>eckpired</td>\n",
       "      <td>1500</td>\n",
       "      <td>0</td>\n",
       "      <td>1</td>\n",
       "      <td>1</td>\n",
       "    </tr>\n",
       "    <tr>\n",
       "      <th>2</th>\n",
       "      <td>not tom</td>\n",
       "      <td>1500</td>\n",
       "      <td>0</td>\n",
       "      <td>1</td>\n",
       "      <td>1</td>\n",
       "    </tr>\n",
       "  </tbody>\n",
       "</table>\n",
       "</div>"
      ],
      "text/plain": [
       "     player  score  games_played  first_season  latest_season\n",
       "0     esoda   1500             1             1              1\n",
       "1  eckpired   1500             0             1              1\n",
       "2   not tom   1500             0             1              1"
      ]
     },
     "execution_count": 203,
     "metadata": {},
     "output_type": "execute_result"
    }
   ],
   "source": [
    "df"
   ]
  },
  {
   "cell_type": "code",
   "execution_count": 125,
   "id": "f79032c6-ac33-435e-94bd-e9f7722b9e74",
   "metadata": {
    "tags": []
   },
   "outputs": [],
   "source": [
    "elo = EloBuilder()"
   ]
  },
  {
   "cell_type": "code",
   "execution_count": null,
   "id": "e93a1eef-1f96-4983-b954-e96149b36111",
   "metadata": {},
   "outputs": [],
   "source": []
  }
 ],
 "metadata": {
  "kernelspec": {
   "display_name": "Python 3 (ipykernel)",
   "language": "python",
   "name": "python3"
  },
  "language_info": {
   "codemirror_mode": {
    "name": "ipython",
    "version": 3
   },
   "file_extension": ".py",
   "mimetype": "text/x-python",
   "name": "python",
   "nbconvert_exporter": "python",
   "pygments_lexer": "ipython3",
   "version": "3.10.11"
  }
 },
 "nbformat": 4,
 "nbformat_minor": 5
}
